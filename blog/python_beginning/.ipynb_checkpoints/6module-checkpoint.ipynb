{
 "cells": [
  {
   "cell_type": "markdown",
   "metadata": {},
   "source": [
    "---\n",
    "title: 模块\n",
    "create: 2016.12.7\n",
    "modified: 2016.12.7\n",
    "tags: python \n",
    "      标准库 \n",
    "      sys\n",
    "      os\n",
    "      6\n",
    "---\n",
    "\n",
    "[TOC]"
   ]
  },
  {
   "cell_type": "markdown",
   "metadata": {},
   "source": [
    "Python的标准安装包括一组模块（module），称为标准库（standard library）。本章将介绍标准库中模块的功能。"
   ]
  },
  {
   "cell_type": "markdown",
   "metadata": {},
   "source": [
    "### 1 模块\n",
    "现在你已经知道如何创建和执行自己的程序（或脚本）了，也学会了怎么用import从外部模块获取函数并且为自己的程序所用：      "
   ]
  },
  {
   "cell_type": "code",
   "execution_count": 8,
   "metadata": {
    "collapsed": false
   },
   "outputs": [
    {
     "data": {
      "text/plain": [
       "0.0"
      ]
     },
     "execution_count": 8,
     "metadata": {},
     "output_type": "execute_result"
    }
   ],
   "source": [
    "import math\n",
    "math.sin(0)"
   ]
  },
  {
   "cell_type": "markdown",
   "metadata": {},
   "source": [
    "怎么编写自己的模块呢？"
   ]
  },
  {
   "cell_type": "markdown",
   "metadata": {},
   "source": [
    "#### 1.1 模块就是程序      \n",
    "任何Python程序都可以作为模块导入。假如你写了一个如下的程序，并且将它保存为hello.py文件。"
   ]
  },
  {
   "cell_type": "code",
   "execution_count": 1,
   "metadata": {
    "collapsed": true
   },
   "outputs": [],
   "source": [
    "#一个简单的模块\n",
    "#hello.py     \n",
    "print \"Hello, world!\""
   ]
  },
  {
   "cell_type": "markdown",
   "metadata": {},
   "source": [
    "程序保存的位置很重要，假如保存在c:/python。可以执行下面的代码，告诉解释器在哪里寻找模块了（以Windows目录为例）："
   ]
  },
  {
   "cell_type": "code",
   "execution_count": 10,
   "metadata": {
    "collapsed": false
   },
   "outputs": [],
   "source": [
    "import sys\n",
    "sys.path.append('c:/python')"
   ]
  },
  {
   "cell_type": "markdown",
   "metadata": {},
   "source": [
    "通过上步告诉解释器：除了从默认的目录中寻找之外，还需要从目录c:/python中寻找模块。完成之后，就能导入自己的模块了："
   ]
  },
  {
   "cell_type": "markdown",
   "metadata": {},
   "source": [
    "\\>>> import hello     \n",
    "Hello, world! "
   ]
  },
  {
   "cell_type": "markdown",
   "metadata": {},
   "source": [
    "如你所见，在导入模块的时候，其中的代码被执行了。不过，如果再次导入该模块，就什么都不会发生了:      \n",
    "\\>>> import hello     \n",
    "\\>>>"
   ]
  },
  {
   "cell_type": "markdown",
   "metadata": {},
   "source": [
    "为什么这次没用了？因为导入模块并不意味着在导入时执行某些操作（比如打印文本）。它们主要用于定义，比如变量、函数和类等。此外，因为只需要定义这些东西一次，导入模块多次和导入一次的效果是一样的。"
   ]
  },
  {
   "cell_type": "markdown",
   "metadata": {},
   "source": [
    "#### 1.2 模块用于定义      \n",
    "模块（像类一样）可以保持自己的作用域。这就意味着模块中定义的所有类和函数以及赋值后变量都成为了模块的特性。   \n",
    "**1.2.1 在模块中定义函数**    "
   ]
  },
  {
   "cell_type": "code",
   "execution_count": 1,
   "metadata": {
    "collapsed": true
   },
   "outputs": [],
   "source": [
    "#包含函数的简单模块\n",
    "#hello2.py     \n",
    "def hello():      \n",
    "    print \"Hello, world!\"       "
   ]
  },
  {
   "cell_type": "markdown",
   "metadata": {},
   "source": [
    "可以像下面这样导入：     \n",
    "\\>>>import hello2     \n",
    "模块会被执行，这意味着hello函数在模块的作用域内被定义了。因此可以通过以下方式来访问函数：   \n",
    "\\>>>hello2.hello()    \n",
    "Hello, world!"
   ]
  },
  {
   "cell_type": "markdown",
   "metadata": {},
   "source": [
    "为什么要这样做呢？为什么不在主程序中定义好一切呢？主要原因是**代码重用**（code reuse）。如果把代码放在模块中，就可以在多个程序中使用这些代码了。因此请记住：为了让代码可重用，请将它模块化！"
   ]
  },
  {
   "cell_type": "markdown",
   "metadata": {},
   "source": [
    "**1.2.2 在模块中添加测试代码**   \n",
    "模块用来定义函数、类和其他一些内容，但是有些时候，在模块中添加一些检查模块本身是否正常工作的测试代码是很有用的。如下："
   ]
  },
  {
   "cell_type": "code",
   "execution_count": null,
   "metadata": {
    "collapsed": true
   },
   "outputs": [],
   "source": [
    "#带有问题测试代码的简单模块\n",
    "#hello3.py     \n",
    "def hello():      \n",
    "    print \"Hello, world!\"\n",
    "#A test:\n",
    "hello()"
   ]
  },
  {
   "cell_type": "markdown",
   "metadata": {},
   "source": [
    "\\>>>import hello3    \n",
    "Hello, world!    \n",
    "\\>>>hello3.hello()     \n",
    "Hello, world!"
   ]
  },
  {
   "cell_type": "markdown",
   "metadata": {},
   "source": [
    "如果将hello3作为模块导入，测试代码就会被执行。为了避免这种情况关键在于：“告知”模块本身是作为程序运行还是导入到其他程序。为了实现这一点，需要使用\\_\\_name\\_\\_变量："
   ]
  },
  {
   "cell_type": "code",
   "execution_count": 4,
   "metadata": {
    "collapsed": false
   },
   "outputs": [
    {
     "data": {
      "text/plain": [
       "'__main__'"
      ]
     },
     "execution_count": 4,
     "metadata": {},
     "output_type": "execute_result"
    }
   ],
   "source": [
    "__name__"
   ]
  },
  {
   "cell_type": "markdown",
   "metadata": {},
   "source": [
    "hello3.\\_\\_name\\_\\_   \n",
    "'hello3'"
   ]
  },
  {
   "cell_type": "markdown",
   "metadata": {},
   "source": [
    "如上，在“主程序”中，变量\\_\\_name\\_\\_的值是‘\\_\\_main\\_\\_’。而在导入的模块中，这个值就被设定为模块的名字。因此，为了让模块的测试代码更加好用，可以将其放置在if语句中："
   ]
  },
  {
   "cell_type": "code",
   "execution_count": null,
   "metadata": {
    "collapsed": true
   },
   "outputs": [],
   "source": [
    "#使用条件测试代码的模块\n",
    "#hello4.py     \n",
    "def hello():      \n",
    "    print \"Hello, world!\"\n",
    "def test():\n",
    "    hello()\n",
    "if __name__=='__main__':\n",
    "    test()"
   ]
  },
  {
   "cell_type": "markdown",
   "metadata": {},
   "source": [
    "#### 1.3 包    \n",
    "为了组织好模块，可以将它们分组为包（package）。当模块存储在文件中时（扩展名.py），包就是模块所在的目录。为了让Python将其作为包对待，它必须包含一个命名为\\_\\_init\\_\\_.py的文件(模块)。如果将它作为普通模块导入的话，文件的内容就是包的内容。比如有个名为constants的包，文件constants/\\_\\_init\\_\\_.py包括语句PI=3.14，那么你可以像下面这么做："
   ]
  },
  {
   "cell_type": "code",
   "execution_count": null,
   "metadata": {
    "collapsed": true
   },
   "outputs": [],
   "source": [
    "import constants\n",
    "print constants.PI"
   ]
  },
  {
   "cell_type": "markdown",
   "metadata": {},
   "source": [
    "### 2 探究模块     \n",
    "探索模块最直接的方式就是在Python解释器中研究它们。当然，要做的第一件事就是导入它。比如："
   ]
  },
  {
   "cell_type": "code",
   "execution_count": 5,
   "metadata": {
    "collapsed": true
   },
   "outputs": [],
   "source": [
    "import copy"
   ]
  },
  {
   "cell_type": "markdown",
   "metadata": {
    "collapsed": true
   },
   "source": [
    "没有引发异常—所以它是存在的。但是它能做什么？又有什么？"
   ]
  },
  {
   "cell_type": "markdown",
   "metadata": {},
   "source": [
    "#### 2.1 使用dir    \n",
    "查看模块包含的内容可以使用dir函数，它会将对象（模块的所有函数、类、变量等）的所有特性列出。一些特性以下划线开始—暗示（约定俗成）它们并不是为在模块外部使用而准备的。所以让我们用列表推导式过滤掉它们："
   ]
  },
  {
   "cell_type": "code",
   "execution_count": 13,
   "metadata": {
    "collapsed": false
   },
   "outputs": [
    {
     "data": {
      "text/plain": [
       "['Error',\n",
       " 'PyStringMap',\n",
       " 'copy',\n",
       " 'deepcopy',\n",
       " 'dispatch_table',\n",
       " 'error',\n",
       " 'name',\n",
       " 't',\n",
       " 'weakref']"
      ]
     },
     "execution_count": 13,
     "metadata": {},
     "output_type": "execute_result"
    }
   ],
   "source": [
    "[n for n in dir(copy) if not n.startswith('_')]"
   ]
  },
  {
   "cell_type": "code",
   "execution_count": 7,
   "metadata": {
    "collapsed": false
   },
   "outputs": [
    {
     "data": {
      "text/plain": [
       "'copy'"
      ]
     },
     "execution_count": 7,
     "metadata": {},
     "output_type": "execute_result"
    }
   ],
   "source": [
    "copy.__name__"
   ]
  },
  {
   "cell_type": "code",
   "execution_count": 9,
   "metadata": {
    "collapsed": false
   },
   "outputs": [
    {
     "data": {
      "text/plain": [
       "['Error', 'copy', 'deepcopy']"
      ]
     },
     "execution_count": 9,
     "metadata": {},
     "output_type": "execute_result"
    }
   ],
   "source": [
    "copy.__all__"
   ]
  },
  {
   "cell_type": "markdown",
   "metadata": {},
   "source": [
    "\\_\\_all\\_\\_是在copy模块内部被设置的，如下：    \n",
    "\\_\\_all\\_\\_=['Error', 'copy', 'deepcopy']     \n",
    "那么它为什么在那呢？它定义了模块的**公有接口**（public interface）。更准确地说，它告诉解释器：从模块导入所有名字代表什么含义。如果你使用如下代码：    \n",
    "from copy import \\*     \n",
    "那么，你只能使用\\_\\_all\\_\\_变量中的3个函数。要导入PyStringMap函数的话，你就得显式地实现，比如from copy import PyStringMap。   \n",
    "在编写模块的时候，像设置\\_\\_all\\_\\_这样的技术是相对有用的。因为模块中可能会有一大堆其他程序不需要或不想要的变量、函数和类，\\_\\_all\\_\\_会“客气地”将它们过滤掉。如果没有设定\\_\\_all\\_\\_，用import \\*语句默认将会输出模块中所有不以下划线开头的全局名称。\n"
   ]
  },
  {
   "cell_type": "markdown",
   "metadata": {},
   "source": [
    "#### 2.2 用help获取帮助    "
   ]
  },
  {
   "cell_type": "code",
   "execution_count": 14,
   "metadata": {
    "collapsed": false
   },
   "outputs": [
    {
     "name": "stdout",
     "output_type": "stream",
     "text": [
      "Help on function copy in module copy:\n",
      "\n",
      "copy(x)\n",
      "    Shallow copy operation on arbitrary Python objects.\n",
      "    \n",
      "    See the module's __doc__ string for more info.\n",
      "\n"
     ]
    }
   ],
   "source": [
    "help(copy.copy)"
   ]
  },
  {
   "cell_type": "code",
   "execution_count": 15,
   "metadata": {
    "collapsed": false
   },
   "outputs": [
    {
     "data": {
      "text/plain": [
       "\"Shallow copy operation on arbitrary Python objects.\\n\\n    See the module's __doc__ string for more info.\\n    \""
      ]
     },
     "execution_count": 15,
     "metadata": {},
     "output_type": "execute_result"
    }
   ],
   "source": [
    "copy.copy.__doc__"
   ]
  },
  {
   "cell_type": "markdown",
   "metadata": {},
   "source": [
    "文档字符串是写在函数开头并且简述函数功能的字符串。这个字符串可以通过函数的\\_\\_doc\\_\\_属性引用。模块和类都有文档字符串（写在开头）。     \n",
    "使用help与直接检查文档字符串相比，它的好处在于会获得更多信息，比如函数签名（也就是所带的参数）。"
   ]
  },
  {
   "cell_type": "markdown",
   "metadata": {},
   "source": [
    "#### 2.3 阅读源代码      \n",
    "要了解模块，是不能脱离源代码的。阅读源代码，是学习Python最好的方式。那么源代码在哪里？如果希望阅读标准模块copy的源代码，可以通过检查模块的\\_\\_file\\_\\_属性："
   ]
  },
  {
   "cell_type": "code",
   "execution_count": 17,
   "metadata": {
    "collapsed": false
   },
   "outputs": [
    {
     "data": {
      "text/plain": [
       "'c:\\\\python27\\\\lib\\\\copy.pyc'"
      ]
     },
     "execution_count": 17,
     "metadata": {},
     "output_type": "execute_result"
    }
   ],
   "source": [
    "copy.__file__"
   ]
  },
  {
   "cell_type": "markdown",
   "metadata": {},
   "source": [
    "注意，一些模块并不包含任何可以阅读的Python源代码。它们可能已经融入到解释器内了（比如sys模块），或者可能是使用C语言写成的。"
   ]
  },
  {
   "cell_type": "markdown",
   "metadata": {},
   "source": [
    "### 3 标准库    \n",
    "安装Python后，你就免费获得了很多有用的模块。"
   ]
  },
  {
   "cell_type": "markdown",
   "metadata": {},
   "source": [
    "#### 3.1 sys     \n",
    "sys模块让你能够访问与Python解释器联系紧密的变量和函数"
   ]
  },
  {
   "cell_type": "code",
   "execution_count": null,
   "metadata": {
    "collapsed": true
   },
   "outputs": [],
   "source": []
  }
 ],
 "metadata": {
  "kernelspec": {
   "display_name": "Python 2",
   "language": "python",
   "name": "python2"
  },
  "language_info": {
   "codemirror_mode": {
    "name": "ipython",
    "version": 2
   },
   "file_extension": ".py",
   "mimetype": "text/x-python",
   "name": "python",
   "nbconvert_exporter": "python",
   "pygments_lexer": "ipython2",
   "version": "2.7.10"
  }
 },
 "nbformat": 4,
 "nbformat_minor": 0
}
