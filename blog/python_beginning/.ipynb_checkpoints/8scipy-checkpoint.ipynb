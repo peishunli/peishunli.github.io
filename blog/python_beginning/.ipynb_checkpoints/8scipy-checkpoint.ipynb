{
 "cells": [
  {
   "cell_type": "markdown",
   "metadata": {},
   "source": [
    "---\n",
    "title: SciPy-数值计算库\n",
    "create: 2016.12.7\n",
    "modified: 2016.12.7\n",
    "tags: python \n",
    "      最小二乘拟合 \n",
    "      数值积分\n",
    "      8\n",
    "---\n",
    "\n",
    "[TOC]"
   ]
  },
  {
   "cell_type": "markdown",
   "metadata": {},
   "source": [
    "SciPy函数库在NumPy库的基础上增加了众多的数学、科学以及工程计算中常用的库函数。例如线性代数、常微分方程数值求解、信号处理、图像处理、稀疏矩阵等等。由于其涉及的领域众多、本书没有能力对其一一的进行介绍。"
   ]
  },
  {
   "cell_type": "markdown",
   "metadata": {},
   "source": [
    "### 1 最小二乘拟合\n",
    "假设有一组实验数据(x[i], y[i])，我们知道它们之间的函数关系:y = f(x)，通过这些已知信息，需要确定函数中的一些参数项。例如，如果f是一个线型函数f(x) = k\\*x+b，那么参数k和b就是我们需要确定的值。\n",
    "scipy中的子函数库optimize已经提供了实现最小二乘拟合(Least-square fitting)算法的函数leastsq。下面是用leastsq进行数据拟合的一个例子："
   ]
  },
  {
   "cell_type": "code",
   "execution_count": 3,
   "metadata": {
    "collapsed": false
   },
   "outputs": [
    {
     "name": "stdout",
     "output_type": "stream",
     "text": [
      "真实参数: [10, 0.34, 0.5235987755982988]\n",
      "拟合参数 [ 10.09912902   0.3412268   -5.70118097]\n"
     ]
    }
   ],
   "source": [
    "# -*- coding: utf-8 -*-\n",
    "import numpy as np\n",
    "from scipy.optimize import leastsq\n",
    "import pylab as pl\n",
    "\n",
    "def func(x, p):\n",
    "    \"\"\"\n",
    "    数据拟合所用的函数: A*sin(2*pi*k*x + theta)\n",
    "    \"\"\"\n",
    "    A, k, theta = p\n",
    "    return A*np.sin(2*np.pi*k*x+theta)   \n",
    "\n",
    "def residuals(p, y, x):\n",
    "    \"\"\"\n",
    "    实验数据x, y和拟合函数之间的差，p为拟合需要找到的系数\n",
    "    \"\"\"\n",
    "    return y - func(x, p)\n",
    "\n",
    "x = np.linspace(0, -2*np.pi, 100)\n",
    "A, k, theta = 10, 0.34, np.pi/6 # 真实数据的函数参数\n",
    "y0 = func(x, [A, k, theta]) # 真实数据\n",
    "y1 = y0 + 2 * np.random.randn(len(x)) # 加入噪声之后的实验数据    \n",
    "\n",
    "p0 = [7, 0.2, 0] # 第一次猜测的函数拟合参数\n",
    "\n",
    "# 调用leastsq进行数据拟合\n",
    "# residuals为计算误差的函数\n",
    "# p0为拟合参数的初始值\n",
    "# args为需要拟合的实验数据\n",
    "plsq = leastsq(residuals, p0, args=(y1, x))\n",
    "\n",
    "print u\"真实参数:\", [A, k, theta] \n",
    "print u\"拟合参数\", plsq[0] # 实验数据拟合后的参数\n",
    "\n",
    "pl.plot(x, y0, label=u\"真实数据\")\n",
    "pl.plot(x, y1, label=u\"带噪声的实验数据\")\n",
    "pl.plot(x, func(x, plsq[0]), label=u\"拟合数据\")\n",
    "pl.legend()\n",
    "pl.show()"
   ]
  },
  {
   "cell_type": "markdown",
   "metadata": {},
   "source": [
    "这个例子中我们要拟合的函数是一个正弦波函数，它有三个参数 A, k, theta ，分别对应振幅、频率、相角。假设我们的实验数据是一组包含噪声的数据 x, y1，其中y1是在真实数据y0的基础上加入噪声的到了。   \n",
    "通过leastsq函数对带噪声的实验数据x, y1进行数据拟合，可以找到x和真实数据y0之间的正弦关系的三个参数： A, k, theta。上面是程序的输出：    \n",
    "我们看到拟合参数虽然和真实参数完全不同，但是由于正弦函数具有周期性，实际上拟合参数得到的函数和真实参数对应的函数是一致的。"
   ]
  },
  {
   "cell_type": "markdown",
   "metadata": {},
   "source": [
    "### 2 非线性方程组求解\n",
    "optimize库中的fsolve函数可以用来对非线性方程组进行求解。它的基本调用形式如下：    \n",
    "fsolve(func, x0)     \n",
    "func(x)是计算方程组误差的函数，它的参数x是一个矢量，表示方程组的各个未知数的一组可能解，func返回将x代入方程组之后得到的误差；x0为未知数矢量的初始值。如果要对如下方程组进行求解的话：    \n",
    "f1(u1,u2,u3) = 0   \n",
    "f2(u1,u2,u3) = 0   \n",
    "f3(u1,u2,u3) = 0   \n",
    "那么func可以如下定义：     "
   ]
  },
  {
   "cell_type": "code",
   "execution_count": null,
   "metadata": {
    "collapsed": true
   },
   "outputs": [],
   "source": [
    "def func(x):     \n",
    "    u1,u2,u3 = x   \n",
    "    return [f1(u1,u2,u3), f2(u1,u2,u3), f3(u1,u2,u3)] "
   ]
  },
  {
   "cell_type": "markdown",
   "metadata": {},
   "source": [
    "下面是一个实际的例子，求解如下方程组的解：   \n",
    "\n",
    "5\\*x1 + 3 = 0    \n",
    "4\\*x0\\*x0 - 2\\*sin(x1\\*x2) = 0    \n",
    "x1\\*x2 - 1.5 = 0    \n",
    "程序如下："
   ]
  },
  {
   "cell_type": "code",
   "execution_count": 10,
   "metadata": {
    "collapsed": false
   },
   "outputs": [
    {
     "name": "stdout",
     "output_type": "stream",
     "text": [
      "[-0.70622057 -0.6        -2.5       ]\n",
      "[0.0, -9.126033262418787e-14, 5.329070518200751e-15]\n"
     ]
    }
   ],
   "source": [
    "from scipy.optimize import fsolve\n",
    "from math import sin,cos\n",
    "\n",
    "def f(x):\n",
    "    x0 = float(x[0])\n",
    "    x1 = float(x[1])\n",
    "    x2 = float(x[2])\n",
    "    return [\n",
    "        5*x1+3,\n",
    "        4*x0*x0 - 2*sin(x1*x2),\n",
    "        x1*x2 - 1.5\n",
    "    ]\n",
    "\n",
    "result = fsolve(f, [1,1,1])\n",
    "\n",
    "print result\n",
    "print f(result)"
   ]
  },
  {
   "cell_type": "markdown",
   "metadata": {},
   "source": [
    "由于fsolve函数在调用函数f时，传递的参数为数组，因此如果直接使用数组中的元素计算的话，计算速度将会有所降低，因此这里先用float函数将数组中的元素转换为Python中的标准浮点数，然后调用标准math库中的函数进行运算。"
   ]
  },
  {
   "cell_type": "markdown",
   "metadata": {},
   "source": [
    "### 3 数值积分\n",
    "数值积分是对定积分的数值求解，例如可以利用数值积分计算某个形状的面积。下面让我们来考虑一下如何计算半径为1的半圆的面积，根据圆的面积公式，其面积应该等于PI/2。单位半圆曲线可以用下面的函数表示："
   ]
  },
  {
   "cell_type": "code",
   "execution_count": 13,
   "metadata": {
    "collapsed": true
   },
   "outputs": [],
   "source": [
    "def half_circle(x):\n",
    "    return (1-x**2)**0.5"
   ]
  },
  {
   "cell_type": "markdown",
   "metadata": {},
   "source": [
    "调用scipy.integrate库中的quad函数的话，将会得到非常精确的结果："
   ]
  },
  {
   "cell_type": "code",
   "execution_count": 15,
   "metadata": {
    "collapsed": false
   },
   "outputs": [
    {
     "data": {
      "text/plain": [
       "3.141592653589797"
      ]
     },
     "execution_count": 15,
     "metadata": {},
     "output_type": "execute_result"
    }
   ],
   "source": [
    "from scipy import integrate\n",
    "pi_half, err = integrate.quad(half_circle, -1, 1)\n",
    "pi_half*2"
   ]
  },
  {
   "cell_type": "markdown",
   "metadata": {},
   "source": [
    "### 4 解常微分方程组\n",
    "scipy.integrate库提供了常微分方程组求解算法odeint。下面让我们来看看如何用odeint计算洛仑兹吸引子的轨迹。洛仑兹吸引子由下面的三个微分方程定义：\n",
    "\n",
    "这三个方程定义了三维空间中各个坐标点上的速度矢量。从某个坐标开始沿着速度矢量进行积分，就可以计算出无质量点在此空间中的运动轨迹。其中 \\sigma, \\rho, \\beta 为三个常数，不同的参数可以计算出不同的运动轨迹： x(t), y(t), z(t)。 当参数为某些值时，轨迹出现馄饨现象：即微小的初值差别也会显著地影响运动轨迹。下面是洛仑兹吸引子的轨迹计算和绘制程序："
   ]
  },
  {
   "cell_type": "code",
   "execution_count": 17,
   "metadata": {
    "collapsed": true
   },
   "outputs": [],
   "source": [
    "from scipy.integrate import odeint \n",
    "import numpy as np \n",
    "\n",
    "def lorenz(w, t, p, r, b): \n",
    "    # 给出位置矢量w，和三个参数p, r, b计算出\n",
    "    # dx/dt, dy/dt, dz/dt的值\n",
    "    x, y, z = w\n",
    "    # 直接与lorenz的计算公式对应 \n",
    "    return np.array([p*(y-x), x*(r-z)-y, x*y-b*z]) \n",
    "\n",
    "t = np.arange(0, 30, 0.01) # 创建时间点 \n",
    "# 调用ode对lorenz进行求解, 用两个不同的初始值 \n",
    "track1 = odeint(lorenz, (0.0, 1.00, 0.0), t, args=(10.0, 28.0, 3.0)) \n",
    "track2 = odeint(lorenz, (0.0, 1.01, 0.0), t, args=(10.0, 28.0, 3.0)) \n",
    "\n",
    "# 绘图\n",
    "from mpl_toolkits.mplot3d import Axes3D\n",
    "import matplotlib.pyplot as plt \n",
    "\n",
    "fig = plt.figure()\n",
    "ax = Axes3D(fig)\n",
    "ax.plot(track1[:,0], track1[:,1], track1[:,2])\n",
    "ax.plot(track2[:,0], track2[:,1], track2[:,2])\n",
    "plt.show()"
   ]
  },
  {
   "cell_type": "code",
   "execution_count": null,
   "metadata": {
    "collapsed": true
   },
   "outputs": [],
   "source": []
  }
 ],
 "metadata": {
  "kernelspec": {
   "display_name": "Python 2",
   "language": "python",
   "name": "python2"
  },
  "language_info": {
   "codemirror_mode": {
    "name": "ipython",
    "version": 2
   },
   "file_extension": ".py",
   "mimetype": "text/x-python",
   "name": "python",
   "nbconvert_exporter": "python",
   "pygments_lexer": "ipython2",
   "version": "2.7.10"
  }
 },
 "nbformat": 4,
 "nbformat_minor": 0
}
