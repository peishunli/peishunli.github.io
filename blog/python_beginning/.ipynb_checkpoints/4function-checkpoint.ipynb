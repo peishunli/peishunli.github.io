{
 "cells": [
  {
   "cell_type": "markdown",
   "metadata": {},
   "source": [
    "---\n",
    "title: 函数\n",
    "create: 2016.12.7\n",
    "modified: 2016.12.7\n",
    "tags: python \n",
    "      函数 \n",
    "      参数\n",
    "      4\n",
    "---\n",
    "\n",
    "[TOC]"
   ]
  },
  {
   "cell_type": "markdown",
   "metadata": {},
   "source": [
    "接下来会介绍如果将语句组织成函数。还会详细介绍参数（parameter）和作用域（scope），以及递归的概念。"
   ]
  },
  {
   "cell_type": "markdown",
   "metadata": {},
   "source": [
    "### 1 创建函数\n",
    "内建的callable函数可以用来判断函数是否可调用："
   ]
  },
  {
   "cell_type": "code",
   "execution_count": 1,
   "metadata": {
    "collapsed": false
   },
   "outputs": [
    {
     "data": {
      "text/plain": [
       "False"
      ]
     },
     "execution_count": 1,
     "metadata": {},
     "output_type": "execute_result"
    }
   ],
   "source": [
    "import math\n",
    "x=1\n",
    "y=math.sqrt\n",
    "callable(x)"
   ]
  },
  {
   "cell_type": "code",
   "execution_count": 2,
   "metadata": {
    "collapsed": false
   },
   "outputs": [
    {
     "data": {
      "text/plain": [
       "True"
      ]
     },
     "execution_count": 2,
     "metadata": {},
     "output_type": "execute_result"
    }
   ],
   "source": [
    "callable(y)"
   ]
  },
  {
   "cell_type": "markdown",
   "metadata": {},
   "source": [
    "怎么定义函数呢？使用def语句即可："
   ]
  },
  {
   "cell_type": "code",
   "execution_count": 5,
   "metadata": {
    "collapsed": true
   },
   "outputs": [],
   "source": [
    "def hello(name):\n",
    "    return 'Hello, '+name+'!'"
   ]
  },
  {
   "cell_type": "code",
   "execution_count": 6,
   "metadata": {
    "collapsed": false
   },
   "outputs": [
    {
     "name": "stdout",
     "output_type": "stream",
     "text": [
      "Hello, world!\n"
     ]
    }
   ],
   "source": [
    "print hello('world')"
   ]
  },
  {
   "cell_type": "markdown",
   "metadata": {},
   "source": [
    "本例中return语句是用来从函数中返回值的。"
   ]
  },
  {
   "cell_type": "markdown",
   "metadata": {},
   "source": [
    "#### 1.1 记录函数      \n",
    "如果想给函数写文档，让后面使用该函数人能理解的话，可以加入注释（例如，#hello、\"\"\"hello\"\"\"\"、'''hello'''）。下面代码演示了如何给函数添加文档字符串："
   ]
  },
  {
   "cell_type": "code",
   "execution_count": 14,
   "metadata": {
    "collapsed": true
   },
   "outputs": [],
   "source": [
    "def square(x):\n",
    "    '''Calculates the square of the number x.'''\n",
    "    return x*x"
   ]
  },
  {
   "cell_type": "markdown",
   "metadata": {},
   "source": [
    "文档字符串可以按如下方式访问："
   ]
  },
  {
   "cell_type": "code",
   "execution_count": 15,
   "metadata": {
    "collapsed": false
   },
   "outputs": [
    {
     "data": {
      "text/plain": [
       "'Calculates the square of the number x.'"
      ]
     },
     "execution_count": 15,
     "metadata": {},
     "output_type": "execute_result"
    }
   ],
   "source": [
    "square.__doc__              #__doc__是函数属性。属性名中的双下划线表示它是个特殊属性。"
   ]
  },
  {
   "cell_type": "markdown",
   "metadata": {},
   "source": [
    "内建的help函数是非常有用的，可以得到关于函数，包括它的文档字符串信息。"
   ]
  },
  {
   "cell_type": "code",
   "execution_count": 16,
   "metadata": {
    "collapsed": false
   },
   "outputs": [
    {
     "name": "stdout",
     "output_type": "stream",
     "text": [
      "Help on function square in module __main__:\n",
      "\n",
      "square(x)\n",
      "    Calculates the square of the number x.\n",
      "\n"
     ]
    }
   ],
   "source": [
    "help(square)"
   ]
  },
  {
   "cell_type": "markdown",
   "metadata": {},
   "source": [
    "### 2 参数\n",
    "写在def语句中函数名后面的变量通常叫做函数的**形式**参数，而调用函数时提供的值是**实际**参数，或者称为**参数**。"
   ]
  },
  {
   "cell_type": "markdown",
   "metadata": {},
   "source": [
    "#### 2.1 我能改变参数吗    "
   ]
  },
  {
   "cell_type": "code",
   "execution_count": 31,
   "metadata": {
    "collapsed": false
   },
   "outputs": [
    {
     "data": {
      "text/plain": [
       "'Entity'"
      ]
     },
     "execution_count": 31,
     "metadata": {},
     "output_type": "execute_result"
    }
   ],
   "source": [
    "def try_to_change(n):\n",
    "    n='Gumby'\n",
    "name='Entity'\n",
    "try_to_change(name)\n",
    "name"
   ]
  },
  {
   "cell_type": "markdown",
   "metadata": {},
   "source": [
    "在try_to_change内，参数n获得了新值，但是它没有影响到name变量。     \n",
    "字符串（以及数字和元组）是**不可改变**的，即无法被修改（只能用新值覆盖）。所以它们做参数的时候也就无需多做介绍。但是如果将可变的数据结构如列表用作参数的时候会发生什么："
   ]
  },
  {
   "cell_type": "code",
   "execution_count": 32,
   "metadata": {
    "collapsed": false
   },
   "outputs": [
    {
     "data": {
      "text/plain": [
       "['Humby', 'Thing']"
      ]
     },
     "execution_count": 32,
     "metadata": {},
     "output_type": "execute_result"
    }
   ],
   "source": [
    "def change(n):\n",
    "    n[0]='Humby'\n",
    "names=['Entity','Thing']\n",
    "change(names)\n",
    "names"
   ]
  },
  {
   "cell_type": "markdown",
   "metadata": {},
   "source": [
    "本例中，**参数被改变了**。有些奇怪吧？下面不用函数调用再做一次："
   ]
  },
  {
   "cell_type": "code",
   "execution_count": 21,
   "metadata": {
    "collapsed": false
   },
   "outputs": [
    {
     "data": {
      "text/plain": [
       "['Gumby', 'Thing']"
      ]
     },
     "execution_count": 21,
     "metadata": {},
     "output_type": "execute_result"
    }
   ],
   "source": [
    "names=['Entity','Thing']\n",
    "n=names    #当两个变量同时引用一个列表的时候，它们是同一个对象。\n",
    "n[0]='Gumby'\n",
    "names"
   ]
  },
  {
   "cell_type": "code",
   "execution_count": 22,
   "metadata": {
    "collapsed": false
   },
   "outputs": [
    {
     "data": {
      "text/plain": [
       "True"
      ]
     },
     "execution_count": 22,
     "metadata": {},
     "output_type": "execute_result"
    }
   ],
   "source": [
    "n is names"
   ]
  },
  {
   "cell_type": "markdown",
   "metadata": {},
   "source": [
    "如果想避免上述情况，可以复制一个列表的副本。当在序列中做切片的时候，返回的切片就是一个副本。"
   ]
  },
  {
   "cell_type": "code",
   "execution_count": 27,
   "metadata": {
    "collapsed": false
   },
   "outputs": [
    {
     "data": {
      "text/plain": [
       "False"
      ]
     },
     "execution_count": 27,
     "metadata": {},
     "output_type": "execute_result"
    }
   ],
   "source": [
    "names=['Entity','Thing']\n",
    "n=names[:]\n",
    "n is names"
   ]
  },
  {
   "cell_type": "code",
   "execution_count": 28,
   "metadata": {
    "collapsed": false
   },
   "outputs": [
    {
     "data": {
      "text/plain": [
       "True"
      ]
     },
     "execution_count": 28,
     "metadata": {},
     "output_type": "execute_result"
    }
   ],
   "source": [
    "n==names"
   ]
  },
  {
   "cell_type": "code",
   "execution_count": 29,
   "metadata": {
    "collapsed": false
   },
   "outputs": [
    {
     "data": {
      "text/plain": [
       "['Entity', 'Thing']"
      ]
     },
     "execution_count": 29,
     "metadata": {},
     "output_type": "execute_result"
    }
   ],
   "source": [
    "n[0]='Gumby'\n",
    "names"
   ]
  },
  {
   "cell_type": "code",
   "execution_count": 30,
   "metadata": {
    "collapsed": false
   },
   "outputs": [
    {
     "data": {
      "text/plain": [
       "['Gumby', 'Thing']"
      ]
     },
     "execution_count": 30,
     "metadata": {},
     "output_type": "execute_result"
    }
   ],
   "source": [
    "n"
   ]
  },
  {
   "cell_type": "markdown",
   "metadata": {},
   "source": [
    "**使用函数改变数据结构（比如列表或字典）是将程序抽象化的好方法，这时就需要改变参数。**假设需要编写一个存储名字并且能用名字、中间名或姓查找联系人的程序，可以使用下面的数据结构："
   ]
  },
  {
   "cell_type": "code",
   "execution_count": 2,
   "metadata": {
    "collapsed": false
   },
   "outputs": [
    {
     "data": {
      "text/plain": [
       "{'first': {}, 'last': {}, 'middle': {}}"
      ]
     },
     "execution_count": 2,
     "metadata": {},
     "output_type": "execute_result"
    }
   ],
   "source": [
    "def init(data):\n",
    "    data['first']={}\n",
    "    data['middle']={}\n",
    "    data['last']={}\n",
    "storage={}   #storage就是参数，需要改变\n",
    "init(storage)\n",
    "storage"
   ]
  },
  {
   "cell_type": "markdown",
   "metadata": {},
   "source": [
    "可以看到，函数init包办了初始化的工作，让代码更易读。\n",
    "把自己的名字加入这个数据结构："
   ]
  },
  {
   "cell_type": "code",
   "execution_count": 4,
   "metadata": {
    "collapsed": true
   },
   "outputs": [],
   "source": [
    "me='Magnus Lie Hetland'\n",
    "storage['first']['Magnus']=[me]\n",
    "storage['middle']['Lie']=[me]\n",
    "storage['last']['Hetland']=[me]"
   ]
  },
  {
   "cell_type": "markdown",
   "metadata": {},
   "source": [
    "每个键下面都存储了一个以人名组成的列表。本例中，列表中只有我。     \n",
    "现在如果想得到所有注册中间名为Lie的人，如下："
   ]
  },
  {
   "cell_type": "code",
   "execution_count": 5,
   "metadata": {
    "collapsed": false
   },
   "outputs": [
    {
     "data": {
      "text/plain": [
       "['Magnus Lie Hetland']"
      ]
     },
     "execution_count": 5,
     "metadata": {},
     "output_type": "execute_result"
    }
   ],
   "source": [
    "storage['middle']['Lie']"
   ]
  },
  {
   "cell_type": "markdown",
   "metadata": {},
   "source": [
    "将人名加到列表中的步骤有点枯燥乏味，尤其是要加入很多姓名相同的人时，需要扩展已经存储了那些名字的列表，如下："
   ]
  },
  {
   "cell_type": "code",
   "execution_count": 6,
   "metadata": {
    "collapsed": false
   },
   "outputs": [
    {
     "data": {
      "text/plain": [
       "['Anne Lie Hetland']"
      ]
     },
     "execution_count": 6,
     "metadata": {},
     "output_type": "execute_result"
    }
   ],
   "source": [
    "my_sister='Anne Lie Hetland'\n",
    "storage['first'].setdefault('Anne',[]).append(my_sister)\n",
    "storage['middle'].setdefault('Lie',[]).append(my_sister)\n",
    "storage['last'].setdefault('Hetland',[]).append(my_sister)\n",
    "storage['first']['Anne']"
   ]
  },
  {
   "cell_type": "code",
   "execution_count": 7,
   "metadata": {
    "collapsed": false
   },
   "outputs": [
    {
     "data": {
      "text/plain": [
       "['Magnus Lie Hetland', 'Anne Lie Hetland']"
      ]
     },
     "execution_count": 7,
     "metadata": {},
     "output_type": "execute_result"
    }
   ],
   "source": [
    "storage['middle']['Lie']"
   ]
  },
  {
   "cell_type": "markdown",
   "metadata": {},
   "source": [
    "如果要写个大程序来这样更新列表，那么很显然程序很快就会变得臃肿且笨拙不堪了。     \n",
    "在编写存储名字的函数前，先写个获得名字的函数："
   ]
  },
  {
   "cell_type": "code",
   "execution_count": 9,
   "metadata": {
    "collapsed": false
   },
   "outputs": [
    {
     "data": {
      "text/plain": [
       "['Magnus Lie Hetland', 'Anne Lie Hetland']"
      ]
     },
     "execution_count": 9,
     "metadata": {},
     "output_type": "execute_result"
    }
   ],
   "source": [
    "def lookup(data, label, name):\n",
    "    return data[label].get(name)\n",
    "lookup(storage,'middle','Lie')"
   ]
  },
  {
   "cell_type": "markdown",
   "metadata": {},
   "source": [
    "标签（比如”middle“）以及名字（比如”Lie“）可以作为参数提供给lookup函数使用，这样会获得包含了全名的列表。      \n",
    "注意，返回的列表和存储在数据结构中的列表是相同的，所以如果列表被修改了，那么也会影响数据结构。      \n",
    "编写存储名字的函数："
   ]
  },
  {
   "cell_type": "code",
   "execution_count": 10,
   "metadata": {
    "collapsed": true
   },
   "outputs": [],
   "source": [
    "def store(data,full_name):\n",
    "    names=full_name.split()     #拆分full_name，得到一个names列表\n",
    "    if len(names)==2:\n",
    "        names.insert(1,'')     #如果names长度为2（只有首名和末名），则插入一个空字符作为中间名\n",
    "    labels='first','middle','last'    #将'first','middle','last'作为元组存储在labels中，也可以使用列表，只是为了方便而去掉括号\n",
    "    for label, name in zip(labels, names):  #使用zip函数联合标签和名字\n",
    "        people = lookup(data, label, name)\n",
    "        if people:\n",
    "            people.append(full_name)\n",
    "        else:\n",
    "            data[label][name]=[full_name]"
   ]
  },
  {
   "cell_type": "markdown",
   "metadata": {},
   "source": [
    "来试用一下刚刚实现的程序："
   ]
  },
  {
   "cell_type": "code",
   "execution_count": 11,
   "metadata": {
    "collapsed": false
   },
   "outputs": [
    {
     "data": {
      "text/plain": [
       "['Magnus Lie Hetland']"
      ]
     },
     "execution_count": 11,
     "metadata": {},
     "output_type": "execute_result"
    }
   ],
   "source": [
    "Mynames={}\n",
    "init(Mynames)\n",
    "store(Mynames,'Magnus Lie Hetland')\n",
    "lookup(Mynames,'middle','Lie')"
   ]
  },
  {
   "cell_type": "markdown",
   "metadata": {},
   "source": [
    "#### 2.2 关键字参数和默认值     \n",
    "上述所使用的参数都叫做**位置参数**，因为它们的位置很重要—事实上比它们的名字更加重要。接下来引入的这个功能可以回避位置问题，当你慢慢习惯使用这个功能以后，就会发现程序规模越大，它们的作用也就越大。     \n",
    "考虑下面两个函数："
   ]
  },
  {
   "cell_type": "code",
   "execution_count": 15,
   "metadata": {
    "collapsed": true
   },
   "outputs": [],
   "source": [
    "def hello_1(greeting,name):\n",
    "    print \"%s,%s\" % (greeting,name)\n",
    "def hello_2(name,greeting):\n",
    "    print \"%s,%s\" % (name,greeting)"
   ]
  },
  {
   "cell_type": "markdown",
   "metadata": {
    "collapsed": false
   },
   "source": [
    "两个代码所实现的是完全一样的功能，只是参数名字反过来了："
   ]
  },
  {
   "cell_type": "code",
   "execution_count": 16,
   "metadata": {
    "collapsed": false
   },
   "outputs": [
    {
     "name": "stdout",
     "output_type": "stream",
     "text": [
      "Hello,world\n",
      "Hello,world\n"
     ]
    }
   ],
   "source": [
    "hello_1('Hello','world')\n",
    "hello_2('Hello','world')"
   ]
  },
  {
   "cell_type": "markdown",
   "metadata": {
    "collapsed": true
   },
   "source": [
    "有些时候（尤其是参数很多的时候），参数的顺序是很难记住的。为了让事情简单些，可以提供参数的名字："
   ]
  },
  {
   "cell_type": "code",
   "execution_count": 17,
   "metadata": {
    "collapsed": false
   },
   "outputs": [
    {
     "name": "stdout",
     "output_type": "stream",
     "text": [
      "Hello,world\n",
      "Hello,world\n"
     ]
    }
   ],
   "source": [
    "hello_1(greeting='Hello',name='world')\n",
    "hello_1(name='world',greeting='Hello')"
   ]
  },
  {
   "cell_type": "markdown",
   "metadata": {},
   "source": [
    "这样一来，顺序就完全没影响了。但参数名和值一定要对应。这类使用参数名提供的参数叫做**关键字参数**。它的作用在于可以明确每个参数的作用。尽管这么做打的字就多了些，但是很显然，每个参数的含义变得更加清晰。而且就算弄乱了参数的顺序，对于程序的功能也没有任何影响。      \n",
    "关键字参数最厉害的地方在于可以在函数中给参数提供默认值："
   ]
  },
  {
   "cell_type": "code",
   "execution_count": 18,
   "metadata": {
    "collapsed": true
   },
   "outputs": [],
   "source": [
    "def hello_3(greeting='Hello',name='world'):\n",
    "    print \"%s,%s\" % (greeting,name)"
   ]
  },
  {
   "cell_type": "markdown",
   "metadata": {},
   "source": [
    "当参数具有默认值的时候，调用的时候就不用提供参数了："
   ]
  },
  {
   "cell_type": "code",
   "execution_count": 19,
   "metadata": {
    "collapsed": false
   },
   "outputs": [
    {
     "name": "stdout",
     "output_type": "stream",
     "text": [
      "Hello,world\n"
     ]
    }
   ],
   "source": [
    "hello_3()"
   ]
  },
  {
   "cell_type": "code",
   "execution_count": 20,
   "metadata": {
    "collapsed": false
   },
   "outputs": [
    {
     "name": "stdout",
     "output_type": "stream",
     "text": [
      "Greetings,world\n"
     ]
    }
   ],
   "source": [
    "hello_3('Greetings')"
   ]
  },
  {
   "cell_type": "code",
   "execution_count": 21,
   "metadata": {
    "collapsed": false
   },
   "outputs": [
    {
     "name": "stdout",
     "output_type": "stream",
     "text": [
      "Greetings,universe\n"
     ]
    }
   ],
   "source": [
    "hello_3('Greetings','universe')"
   ]
  },
  {
   "cell_type": "markdown",
   "metadata": {},
   "source": [
    "但是如果只想提供name参数，而让greeting使用默认值该怎么办呢？"
   ]
  },
  {
   "cell_type": "code",
   "execution_count": 22,
   "metadata": {
    "collapsed": false
   },
   "outputs": [
    {
     "name": "stdout",
     "output_type": "stream",
     "text": [
      "Hello,Gumby\n"
     ]
    }
   ],
   "source": [
    "hello_3(name='Gumby')"
   ]
  },
  {
   "cell_type": "markdown",
   "metadata": {},
   "source": [
    "位置和关键字参数是可以联合使用的。把位置参数放置在前面就可以了。"
   ]
  },
  {
   "cell_type": "markdown",
   "metadata": {},
   "source": [
    "#### 2.3 收集参数     \n",
    "有些时候让用户提供任意数量的参数是很有用的。比如在名字存储程序中，用户每次只能存一个名字。如果能像下面这样存储多个名字就更好了：     \n",
    "store(data,name1,name2,name3)      \n",
    "用户可以给函数提供任意多的参数。实现起来也不难。试着像下面这样定义函数：     "
   ]
  },
  {
   "cell_type": "code",
   "execution_count": 23,
   "metadata": {
    "collapsed": true
   },
   "outputs": [],
   "source": [
    "def print_params(*params):\n",
    "    print params"
   ]
  },
  {
   "cell_type": "markdown",
   "metadata": {},
   "source": [
    "这里只指定了一个参数，但是前面加上了个星号。这是什么意思？让我们用一个参数调用函数看看会发生什么："
   ]
  },
  {
   "cell_type": "code",
   "execution_count": 24,
   "metadata": {
    "collapsed": false
   },
   "outputs": [
    {
     "name": "stdout",
     "output_type": "stream",
     "text": [
      "('Testing',)\n"
     ]
    }
   ],
   "source": [
    "print_params('Testing')"
   ]
  },
  {
   "cell_type": "markdown",
   "metadata": {},
   "source": [
    "可以看到，结果作为元组打印出来，因为里面有个逗号。那么在params中使用多个参数看看会发生什么："
   ]
  },
  {
   "cell_type": "code",
   "execution_count": 26,
   "metadata": {
    "collapsed": false
   },
   "outputs": [
    {
     "name": "stdout",
     "output_type": "stream",
     "text": [
      "('Testing', 1, 2, 3)\n"
     ]
    }
   ],
   "source": [
    "print_params('Testing',1,2,3)"
   ]
  },
  {
   "cell_type": "markdown",
   "metadata": {},
   "source": [
    "参数前的星号将所有值放置在同一个元组中。可以说是将这些值收集起来，然后使用。不知道能不能联合普通参数？"
   ]
  },
  {
   "cell_type": "code",
   "execution_count": 29,
   "metadata": {
    "collapsed": false
   },
   "outputs": [
    {
     "name": "stdout",
     "output_type": "stream",
     "text": [
      "Params:\n",
      "(1, 2, 3)\n"
     ]
    }
   ],
   "source": [
    "def print_params_2(title, *params):\n",
    "    print title\n",
    "    print params\n",
    "print_params_2('Params:', 1,2,3)"
   ]
  },
  {
   "cell_type": "markdown",
   "metadata": {},
   "source": [
    "所以星号的意思就是“收集其余的位置参数”。如果不提供任何供收集的元素，params就是个空元组："
   ]
  },
  {
   "cell_type": "code",
   "execution_count": 30,
   "metadata": {
    "collapsed": false
   },
   "outputs": [
    {
     "name": "stdout",
     "output_type": "stream",
     "text": [
      "Nothing:\n",
      "()\n"
     ]
    }
   ],
   "source": [
    "print_params_2('Nothing:')"
   ]
  },
  {
   "cell_type": "markdown",
   "metadata": {},
   "source": [
    "那么能不能处理关键字参数呢？"
   ]
  },
  {
   "cell_type": "code",
   "execution_count": 31,
   "metadata": {
    "collapsed": false
   },
   "outputs": [
    {
     "ename": "TypeError",
     "evalue": "print_params_2() got an unexpected keyword argument 'something'",
     "output_type": "error",
     "traceback": [
      "\u001b[1;31m---------------------------------------------------------------------------\u001b[0m",
      "\u001b[1;31mTypeError\u001b[0m                                 Traceback (most recent call last)",
      "\u001b[1;32m<ipython-input-31-3b2ecc07b82c>\u001b[0m in \u001b[0;36m<module>\u001b[1;34m()\u001b[0m\n\u001b[1;32m----> 1\u001b[1;33m \u001b[0mprint_params_2\u001b[0m\u001b[1;33m(\u001b[0m\u001b[1;34m'Hmm...'\u001b[0m\u001b[1;33m,\u001b[0m\u001b[0msomething\u001b[0m\u001b[1;33m=\u001b[0m\u001b[1;36m42\u001b[0m\u001b[1;33m)\u001b[0m\u001b[1;33m\u001b[0m\u001b[0m\n\u001b[0m",
      "\u001b[1;31mTypeError\u001b[0m: print_params_2() got an unexpected keyword argument 'something'"
     ]
    }
   ],
   "source": [
    "print_params_2('Hmm...',something=42)"
   ]
  },
  {
   "cell_type": "markdown",
   "metadata": {},
   "source": [
    "看来不行。所以我们需要另外一个能处理**关键字参数**的“收集”操作。原来需要在参数前面加上两个星号“**”"
   ]
  },
  {
   "cell_type": "code",
   "execution_count": 33,
   "metadata": {
    "collapsed": false
   },
   "outputs": [
    {
     "name": "stdout",
     "output_type": "stream",
     "text": [
      "{'y': 2, 'x': 1, 'z': 3}\n"
     ]
    }
   ],
   "source": [
    "def print_params_3(**params):\n",
    "    print params\n",
    "print_params_3(x=1,y=2,z=3)"
   ]
  },
  {
   "cell_type": "markdown",
   "metadata": {},
   "source": [
    "返回的是字典而不是元组。放一起来看看："
   ]
  },
  {
   "cell_type": "code",
   "execution_count": 35,
   "metadata": {
    "collapsed": false
   },
   "outputs": [
    {
     "name": "stdout",
     "output_type": "stream",
     "text": [
      "1 2 3\n",
      "(5, 6, 7)\n",
      "{'foo': 1, 'bar': 2}\n"
     ]
    }
   ],
   "source": [
    "def print_params_4(x,y,z=3,*pospar,**keypar):\n",
    "    print x,y,z\n",
    "    print pospar\n",
    "    print keypar\n",
    "print_params_4(1,2,3,5,6,7,foo=1,bar=2)"
   ]
  },
  {
   "cell_type": "code",
   "execution_count": 36,
   "metadata": {
    "collapsed": false
   },
   "outputs": [
    {
     "name": "stdout",
     "output_type": "stream",
     "text": [
      "1 2 3\n",
      "()\n",
      "{}\n"
     ]
    }
   ],
   "source": [
    "print_params_4(1,2)"
   ]
  },
  {
   "cell_type": "markdown",
   "metadata": {},
   "source": [
    "联合使用这些功能，可以做的事就多了。现在回到原来的问题上：怎么实现多个名字同时存储。解决方案如下："
   ]
  },
  {
   "cell_type": "code",
   "execution_count": 40,
   "metadata": {
    "collapsed": false
   },
   "outputs": [],
   "source": [
    "def store(data,*full_names):\n",
    "    for full_name in full_names:\n",
    "        names=full_name.split()     \n",
    "        if len(names)==2:\n",
    "            names.insert(1,'')  \n",
    "        labels='first','middle','last'   \n",
    "        for label, name in zip(labels, names): \n",
    "            people = lookup(data, label, name)\n",
    "            if people:\n",
    "                people.append(full_name)\n",
    "            else:\n",
    "                data[label][name]=[full_name]"
   ]
  },
  {
   "cell_type": "code",
   "execution_count": 41,
   "metadata": {
    "collapsed": false
   },
   "outputs": [
    {
     "data": {
      "text/plain": [
       "['Luke Skywaller']"
      ]
     },
     "execution_count": 41,
     "metadata": {},
     "output_type": "execute_result"
    }
   ],
   "source": [
    "d={}\n",
    "init(d)\n",
    "store(d,'Magnus Lie Hetland','Luke Skywaller')\n",
    "lookup(d,'last','Skywaller')"
   ]
  },
  {
   "cell_type": "markdown",
   "metadata": {},
   "source": [
    "#### 2.4 反转过程   \n",
    "如何将参数收集为元组和字典已经讨论过了，但是事实上，如果使用\\*和\\*\\*的话，也可以执行相反的操作。那么参数收集的逆过程是什么呢？  "
   ]
  },
  {
   "cell_type": "code",
   "execution_count": 42,
   "metadata": {
    "collapsed": false
   },
   "outputs": [
    {
     "data": {
      "text/plain": [
       "3"
      ]
     },
     "execution_count": 42,
     "metadata": {},
     "output_type": "execute_result"
    }
   ],
   "source": [
    "def add(x,y):\n",
    "    return x+y\n",
    "add(1,2)"
   ]
  },
  {
   "cell_type": "markdown",
   "metadata": {},
   "source": [
    "比如说有个包含由两个要相加的数字组成的元组，可以使用\\*运算符来分配它们到“另一端”："
   ]
  },
  {
   "cell_type": "code",
   "execution_count": 43,
   "metadata": {
    "collapsed": false
   },
   "outputs": [
    {
     "data": {
      "text/plain": [
       "3"
      ]
     },
     "execution_count": 43,
     "metadata": {},
     "output_type": "execute_result"
    }
   ],
   "source": [
    "params=(1,2)\n",
    "add(*params)"
   ]
  },
  {
   "cell_type": "markdown",
   "metadata": {},
   "source": [
    "可以使用同样的技术来处理字典—使用双星号运算符。"
   ]
  },
  {
   "cell_type": "code",
   "execution_count": 45,
   "metadata": {
    "collapsed": false
   },
   "outputs": [
    {
     "name": "stdout",
     "output_type": "stream",
     "text": [
      "Well met,Sir Robin\n"
     ]
    }
   ],
   "source": [
    "def hello_3(greeting='Hello',name='world'):\n",
    "    print \"%s,%s\" % (greeting,name)\n",
    "params={'name':'Sir Robin','greeting':'Well met'}\n",
    "hello_3(**params)"
   ]
  },
  {
   "cell_type": "markdown",
   "metadata": {},
   "source": [
    "在定义或调用函数时使用星号（或者双星号）仅传递元组或字典。"
   ]
  },
  {
   "cell_type": "markdown",
   "metadata": {},
   "source": [
    "#### 2.5 练习使用参数   \n",
    "下面把上述方法放在一起举个例子： "
   ]
  },
  {
   "cell_type": "code",
   "execution_count": 50,
   "metadata": {
    "collapsed": true
   },
   "outputs": [],
   "source": [
    "def story(**kwds):\n",
    "    return 'Once upon a time, there was a ' \\\n",
    "            '%(job)s called %(name)s.' %kwds\n",
    "def power(x,y,*others):\n",
    "    if others:\n",
    "        print 'Received redundant parameters:',others\n",
    "    return pow(x,y)\n",
    "def interval(start,stop=None,step=1):\n",
    "    'Imitates range() for step > 0'\n",
    "    if stop is None:\n",
    "        start,stop=0,start   #指定参数\n",
    "    result=[]\n",
    "    i=start\n",
    "    while i<stop:\n",
    "        result.append(i)\n",
    "        i+=step\n",
    "    return result"
   ]
  },
  {
   "cell_type": "code",
   "execution_count": 51,
   "metadata": {
    "collapsed": false
   },
   "outputs": [
    {
     "name": "stdout",
     "output_type": "stream",
     "text": [
      "Once upon a time, there was a king called Gumby.\n"
     ]
    }
   ],
   "source": [
    "print story(job='king',name='Gumby')"
   ]
  },
  {
   "cell_type": "code",
   "execution_count": 52,
   "metadata": {
    "collapsed": false
   },
   "outputs": [
    {
     "name": "stdout",
     "output_type": "stream",
     "text": [
      "Once upon a time, there was a brave knight called Sir Robin.\n"
     ]
    }
   ],
   "source": [
    "print story(name='Sir Robin',job='brave knight')"
   ]
  },
  {
   "cell_type": "code",
   "execution_count": 57,
   "metadata": {
    "collapsed": false
   },
   "outputs": [
    {
     "name": "stdout",
     "output_type": "stream",
     "text": [
      "Once upon a time, there was a language called Python.\n"
     ]
    }
   ],
   "source": [
    "params={'job':'language','name':'Python'}\n",
    "print story(**params)"
   ]
  },
  {
   "cell_type": "code",
   "execution_count": 58,
   "metadata": {
    "collapsed": false
   },
   "outputs": [
    {
     "data": {
      "text/plain": [
       "{'name': 'Python'}"
      ]
     },
     "execution_count": 58,
     "metadata": {},
     "output_type": "execute_result"
    }
   ],
   "source": [
    "del params['job']\n",
    "params"
   ]
  },
  {
   "cell_type": "code",
   "execution_count": 59,
   "metadata": {
    "collapsed": false
   },
   "outputs": [
    {
     "name": "stdout",
     "output_type": "stream",
     "text": [
      "Once upon a time, there was a stroke of genius called Python.\n"
     ]
    }
   ],
   "source": [
    "print story(job='stroke of genius', **params)"
   ]
  },
  {
   "cell_type": "code",
   "execution_count": 60,
   "metadata": {
    "collapsed": false
   },
   "outputs": [
    {
     "data": {
      "text/plain": [
       "8"
      ]
     },
     "execution_count": 60,
     "metadata": {},
     "output_type": "execute_result"
    }
   ],
   "source": [
    "power(2,3)"
   ]
  },
  {
   "cell_type": "code",
   "execution_count": 61,
   "metadata": {
    "collapsed": false
   },
   "outputs": [
    {
     "data": {
      "text/plain": [
       "9"
      ]
     },
     "execution_count": 61,
     "metadata": {},
     "output_type": "execute_result"
    }
   ],
   "source": [
    "power(3,2)"
   ]
  },
  {
   "cell_type": "code",
   "execution_count": 62,
   "metadata": {
    "collapsed": false
   },
   "outputs": [
    {
     "data": {
      "text/plain": [
       "8"
      ]
     },
     "execution_count": 62,
     "metadata": {},
     "output_type": "execute_result"
    }
   ],
   "source": [
    "power(y=3,x=2)"
   ]
  },
  {
   "cell_type": "code",
   "execution_count": 63,
   "metadata": {
    "collapsed": false
   },
   "outputs": [
    {
     "data": {
      "text/plain": [
       "(2, 2)"
      ]
     },
     "execution_count": 63,
     "metadata": {},
     "output_type": "execute_result"
    }
   ],
   "source": [
    "params=(2,)*2\n",
    "params"
   ]
  },
  {
   "cell_type": "code",
   "execution_count": 64,
   "metadata": {
    "collapsed": false
   },
   "outputs": [
    {
     "data": {
      "text/plain": [
       "4"
      ]
     },
     "execution_count": 64,
     "metadata": {},
     "output_type": "execute_result"
    }
   ],
   "source": [
    "power(*params)"
   ]
  },
  {
   "cell_type": "code",
   "execution_count": 65,
   "metadata": {
    "collapsed": false
   },
   "outputs": [
    {
     "name": "stdout",
     "output_type": "stream",
     "text": [
      "Received redundant parameters: (2, 2)\n"
     ]
    },
    {
     "data": {
      "text/plain": [
       "4"
      ]
     },
     "execution_count": 65,
     "metadata": {},
     "output_type": "execute_result"
    }
   ],
   "source": [
    "params=(2,)*4\n",
    "power(*params)"
   ]
  },
  {
   "cell_type": "code",
   "execution_count": 66,
   "metadata": {
    "collapsed": false
   },
   "outputs": [
    {
     "data": {
      "text/plain": [
       "[0, 1, 2, 3, 4, 5, 6, 7, 8, 9]"
      ]
     },
     "execution_count": 66,
     "metadata": {},
     "output_type": "execute_result"
    }
   ],
   "source": [
    "interval(10)"
   ]
  },
  {
   "cell_type": "code",
   "execution_count": 67,
   "metadata": {
    "collapsed": false
   },
   "outputs": [
    {
     "data": {
      "text/plain": [
       "[1, 3, 5, 7]"
      ]
     },
     "execution_count": 67,
     "metadata": {},
     "output_type": "execute_result"
    }
   ],
   "source": [
    "interval(1,8,2)"
   ]
  },
  {
   "cell_type": "markdown",
   "metadata": {},
   "source": [
    "### 3 作用域\n",
    "到底什么是变量？可以把它们看作是值的名字。在执行x=1赋值语句后，名称x引用到值1。这就像用字典一样，键引用值。变量和所对应的值用的是个“不可见”的字典。内建的vars函数可以返回这个字典："
   ]
  },
  {
   "cell_type": "code",
   "execution_count": 72,
   "metadata": {
    "collapsed": false
   },
   "outputs": [
    {
     "data": {
      "text/plain": [
       "1"
      ]
     },
     "execution_count": 72,
     "metadata": {},
     "output_type": "execute_result"
    }
   ],
   "source": [
    "x=1\n",
    "scope=vars()\n",
    "scope['x']"
   ]
  },
  {
   "cell_type": "code",
   "execution_count": 73,
   "metadata": {
    "collapsed": false
   },
   "outputs": [
    {
     "data": {
      "text/plain": [
       "2"
      ]
     },
     "execution_count": 73,
     "metadata": {},
     "output_type": "execute_result"
    }
   ],
   "source": [
    "scope['x']+=1\n",
    "x"
   ]
  },
  {
   "cell_type": "markdown",
   "metadata": {},
   "source": [
    "这类“不可见字典”叫做**命名空间**或者**作用域**。那么到底有多少个命名空间？除了全局作用域外，每个函数调用都会创建一个新的作用域（**局部作用域**或**局部命名空间**）："
   ]
  },
  {
   "cell_type": "code",
   "execution_count": 74,
   "metadata": {
    "collapsed": false
   },
   "outputs": [
    {
     "data": {
      "text/plain": [
       "1"
      ]
     },
     "execution_count": 74,
     "metadata": {},
     "output_type": "execute_result"
    }
   ],
   "source": [
    "def foo():\n",
    "    x=42\n",
    "x=1\n",
    "foo()\n",
    "x"
   ]
  },
  {
   "cell_type": "markdown",
   "metadata": {},
   "source": [
    "当调用foo的时候，新的命名空间被创建，它只作用于foo内的代码块。函数内的变量被称为局部变量（local variable）。"
   ]
  },
  {
   "cell_type": "markdown",
   "metadata": {},
   "source": [
    "如果在函数内部将值赋予一个变量，它会自动成为局部变量—除非告知Python将其声明为全局变量："
   ]
  },
  {
   "cell_type": "code",
   "execution_count": 75,
   "metadata": {
    "collapsed": false
   },
   "outputs": [
    {
     "data": {
      "text/plain": [
       "2"
      ]
     },
     "execution_count": 75,
     "metadata": {},
     "output_type": "execute_result"
    }
   ],
   "source": [
    "x=1\n",
    "def change_global():\n",
    "    global x\n",
    "    x=x+1\n",
    "change_global()\n",
    "x"
   ]
  },
  {
   "cell_type": "markdown",
   "metadata": {},
   "source": [
    "### 4 递归\n",
    "函数可以调用其他函数，也可以调用自身。递归（recursion）简单来说就是引用（或调用）自身的意思。一切用递归实现的功能都可以用循环实现，但有些时候递归函数更易读。  \n",
    "首先，计算数n的阶乘。那么怎么计算呢？可以使用循环："
   ]
  },
  {
   "cell_type": "code",
   "execution_count": 77,
   "metadata": {
    "collapsed": false
   },
   "outputs": [
    {
     "data": {
      "text/plain": [
       "6"
      ]
     },
     "execution_count": 77,
     "metadata": {},
     "output_type": "execute_result"
    }
   ],
   "source": [
    "def factorial_1(n):\n",
    "    result=n\n",
    "    for i in range(1,n):\n",
    "        result*=i\n",
    "    return result\n",
    "factorial_1(3)"
   ]
  },
  {
   "cell_type": "markdown",
   "metadata": {},
   "source": [
    "下面来看看使用递归的版本：     \n",
    "1的阶乘是1；     \n",
    "大于1的数n的阶乘是n乘n-1的阶乘。"
   ]
  },
  {
   "cell_type": "code",
   "execution_count": 79,
   "metadata": {
    "collapsed": false
   },
   "outputs": [
    {
     "data": {
      "text/plain": [
       "6"
      ]
     },
     "execution_count": 79,
     "metadata": {},
     "output_type": "execute_result"
    }
   ],
   "source": [
    "def factorial_2(n):\n",
    "    if n==1:\n",
    "        return 1\n",
    "    else:\n",
    "        return n*factorial_2(n-1)\n",
    "factorial_2(3)"
   ]
  },
  {
   "cell_type": "markdown",
   "metadata": {},
   "source": [
    "考虑另外一个例子，计算幂（就像内建的pow函数或\\*\\*运算符一样）。     \n",
    "先看一个简单的例子：power(x,n)是x自乘n-1次的结果。"
   ]
  },
  {
   "cell_type": "code",
   "execution_count": 84,
   "metadata": {
    "collapsed": false
   },
   "outputs": [
    {
     "data": {
      "text/plain": [
       "8"
      ]
     },
     "execution_count": 84,
     "metadata": {},
     "output_type": "execute_result"
    }
   ],
   "source": [
    "def power_1(x,n):\n",
    "    result=1\n",
    "    for i in range(n):\n",
    "         result*=x\n",
    "    return result\n",
    "power_1(2,3)"
   ]
  },
  {
   "cell_type": "markdown",
   "metadata": {},
   "source": [
    "接下来把它改为递归版本：\n",
    "对于任意数字x来说，power(x,0)是1；     \n",
    "对于任何大于0的数，power(x,n)是x乘以power(x,n-1)的结果。"
   ]
  },
  {
   "cell_type": "code",
   "execution_count": 85,
   "metadata": {
    "collapsed": false
   },
   "outputs": [
    {
     "data": {
      "text/plain": [
       "8"
      ]
     },
     "execution_count": 85,
     "metadata": {},
     "output_type": "execute_result"
    }
   ],
   "source": [
    "def power_2(x,n):\n",
    "    if n==0:\n",
    "        return 1\n",
    "    else:\n",
    "        return x*power(x,n-1)\n",
    "power_2(2,3)"
   ]
  },
  {
   "cell_type": "markdown",
   "metadata": {},
   "source": [
    "### 5 小结"
   ]
  }
 ],
 "metadata": {
  "kernelspec": {
   "display_name": "Python 2",
   "language": "python",
   "name": "python2"
  },
  "language_info": {
   "codemirror_mode": {
    "name": "ipython",
    "version": 2
   },
   "file_extension": ".py",
   "mimetype": "text/x-python",
   "name": "python",
   "nbconvert_exporter": "python",
   "pygments_lexer": "ipython2",
   "version": "2.7.10"
  }
 },
 "nbformat": 4,
 "nbformat_minor": 0
}
